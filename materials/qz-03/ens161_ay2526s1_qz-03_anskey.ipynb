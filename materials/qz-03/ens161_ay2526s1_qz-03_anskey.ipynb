{
 "cells": [
  {
   "cell_type": "markdown",
   "id": "be95246f",
   "metadata": {},
   "source": [
    "# Quiz 3"
   ]
  },
  {
   "cell_type": "code",
   "execution_count": 1,
   "id": "99ce3968",
   "metadata": {},
   "outputs": [],
   "source": [
    "import numpy as np\n",
    "import scipy.constants as spc"
   ]
  },
  {
   "cell_type": "code",
   "execution_count": 2,
   "id": "0f6e9a36",
   "metadata": {},
   "outputs": [],
   "source": [
    "_SECTIONS = {\"B5-1\", \"B6\"}"
   ]
  },
  {
   "cell_type": "markdown",
   "id": "2b68a0db",
   "metadata": {},
   "source": [
    "## Problem 1"
   ]
  },
  {
   "cell_type": "code",
   "execution_count": 3,
   "id": "18be6cc5",
   "metadata": {},
   "outputs": [],
   "source": [
    "def solve_Problem_1(section : str = \"B5-1\") -> None:\n",
    "    assert section.upper() in _SECTIONS\n",
    "    if section.upper() == \"B5-1\":\n",
    "        F_1, F_2, F_3, F_4 = 0.810, 0.420, 0.610, 0.030\n",
    "    else:\n",
    "        F_1, F_2, F_3, F_4 = 1.62, 0.84, 1.22, 0.06\n",
    "\n",
    "    # Resultant load [kN]\n",
    "    F_r = np.array([\n",
    "       (F_1 * np.cos(np.deg2rad(70))) - (F_3 * np.cos(np.deg2rad(40))),\n",
    "       -(F_1 * np.sin(np.deg2rad(70))) - F_2 - (F_3 * np.sin(np.deg2rad(40))) - F_4\n",
    "    ])\n",
    "    \n",
    "    # CCW couple moment [kN-m] about C\n",
    "    M_C = (F_1 * np.sin(np.deg2rad(70)) * 1.2192) \\\n",
    "            - (F_1 * np.cos(np.deg2rad(70)) * 1.8288) \\\n",
    "            - (F_2 * 1.2192) \\\n",
    "            + (F_3 * np.cos(np.deg2rad(40)) * 1.8288) \\\n",
    "            - (F_3 * np.sin(np.deg2rad(40)) * 3.6576)\n",
    "    \n",
    "    # CCW couple moment [kN-m] about E\n",
    "    M_E = (F_1 * np.sin(np.deg2rad(70)) * 3.6576) \\\n",
    "            - (F_1 * np.cos(np.deg2rad(70)) * 1.8288) \\\n",
    "            - (F_2 * 1.2192) \\\n",
    "            + (F_3 * np.cos(np.deg2rad(40)) * 1.8288) \\\n",
    "            - (F_3 * np.sin(np.deg2rad(40)) * 1.2192) \\\n",
    "            + (F_4 * 2.4384)\n",
    "    \n",
    "    # CCW couple moment [kN-m] about A\n",
    "    M_A = - (F_1 * np.sin(np.deg2rad(70)) * 1.2192) \\\n",
    "            - (F_1 * np.cos(np.deg2rad(70)) * 1.8288) \\\n",
    "            - (F_2 * 3.6576) \\\n",
    "            - (F_3 * np.sin(np.deg2rad(40)) * 6.096) \\\n",
    "            + (F_3 * np.cos(np.deg2rad(40)) * 1.8288) \\\n",
    "            - (F_4 * 2.24384)\n",
    "    d_A = np.abs(M_A) / np.abs(F_r[1])\n",
    "    \n",
    "    # CCW couple moment [kN-m] about F\n",
    "    M_F = (F_1 * np.sin(np.deg2rad(70)) * 4.8768) \\\n",
    "            + (F_2 * 2.4384) \\\n",
    "            + (F_4 * 3.6576)\n",
    "    d_F = np.abs(M_F) / np.abs(F_r[1])\n",
    "\n",
    "    # Support reactions: A_h, A_v, G_v [kN]\n",
    "    Rxns = np.linalg.solve(\n",
    "        np.array([\n",
    "            [1., 0., 0.],\n",
    "            [0., 1., 0.],\n",
    "            [0., -2.4384, 4.8768]\n",
    "        ]),\n",
    "        np.array([\n",
    "            - (F_1 * np.cos(np.deg2rad(70))) + (F_3 * np.cos(np.deg2rad(40))),\n",
    "            (F_1 * np.sin(np.deg2rad(70))) + F_2 + (F_3 * np.sin(np.deg2rad(40))) + F_4,\n",
    "            - M_C\n",
    "        ])\n",
    "    )\n",
    "\n",
    "    print(\n",
    "        f\"Answers to Problem 1 for {section.upper()}:\\n\",\n",
    "        f\"\\ta. {F_r * 1e3} N | {M_C * 1e3} N-m\\n\",\n",
    "        f\"\\tb. {F_r * 1e3} N | {M_E * 1e3} N-m\\n\",\n",
    "        f\"\\tc. {d_A} m\\n\",\n",
    "        f\"\\td. {d_F} m\\n\",\n",
    "        f\"\\te. {Rxns[0] * 1e3} N\\n\",\n",
    "        f\"\\tf. {Rxns[1] * 1e3} N\\n\",\n",
    "        f\"\\tg. {Rxns[2] * 1e3} N\\n\",\n",
    "    )\n",
    "    "
   ]
  },
  {
   "cell_type": "code",
   "execution_count": 4,
   "id": "312b6e83",
   "metadata": {},
   "outputs": [
    {
     "name": "stdout",
     "output_type": "stream",
     "text": [
      "Answers to Problem 1 for B5-1:\n",
      " \ta. [ -190.25079421 -1603.25146475] N | -670.2845968341954 N-m\n",
      " \tb. [ -190.25079421 -1603.25146475] N | 2214.9557748009256 N-m\n",
      " \tc. 2.852837667106527 m\n",
      " \td. 3.022506085119384 m\n",
      " \te. 190.2507942087848 N\n",
      " \tf. 1603.2514647453747 N\n",
      " \tg. 939.0692602668385 N\n",
      "\n",
      "Answers to Problem 1 for B6:\n",
      " \ta. [ -380.50158842 -3206.50292949] N | -1340.5691936683909 N-m\n",
      " \tb. [ -380.50158842 -3206.50292949] N | 4429.911549601851 N-m\n",
      " \tc. 2.852837667106527 m\n",
      " \td. 3.022506085119384 m\n",
      " \te. 380.5015884175696 N\n",
      " \tf. 3206.5029294907495 N\n",
      " \tg. 1878.138520533677 N\n",
      "\n"
     ]
    }
   ],
   "source": [
    "solve_Problem_1(section = \"B5-1\")\n",
    "solve_Problem_1(section = \"B6\")"
   ]
  },
  {
   "cell_type": "markdown",
   "id": "a19f22de",
   "metadata": {},
   "source": [
    "## Problem 2"
   ]
  },
  {
   "cell_type": "code",
   "execution_count": 5,
   "id": "c720e05b",
   "metadata": {},
   "outputs": [],
   "source": [
    "def solve_Problem_2(section : str = \"B5-1\") -> None:\n",
    "    assert section.upper() in _SECTIONS\n",
    "    m = 75 if section.upper() == \"B5-1\" else 57\n",
    "\n",
    "    # Unit vectors\n",
    "    u_AB = np.array([-30, 24, 32]) / 50\n",
    "    u_AC = np.array([-30, 20, -12]) / 38\n",
    "    u_n = np.array([16, 30, 0]) / 34\n",
    "    u_BO = np.array([0, -4, -44]) / np.sqrt(1952.)\n",
    "\n",
    "    # Weight vector [N]\n",
    "    W = m * spc.g * np.array([0, -1, 0]) \n",
    "    \n",
    "    # Unknowns: tension in AB, tension in AC, normal force [N]\n",
    "    Xs = np.linalg.solve(\n",
    "        np.concatenate([u_AB[:, None], u_AC[:, None], u_n[:, None]], axis=-1),\n",
    "        -W\n",
    "    )\n",
    "\n",
    "    # Moments [N-m] about line through B and O\n",
    "    r_BA = 0.3048 * np.array([30, -24, -32])\n",
    "    M_w = np.dot(np.cross(r_BA, W), u_BO) * u_BO\n",
    "    M_n = np.dot(np.cross(r_BA, Xs[-1] * u_n), u_BO) * u_BO\n",
    "\n",
    "    print(\n",
    "        f\"Answers to Problem 2 for {section.upper()}:\\n\",\n",
    "        f\"\\ta. {Xs[0]} N\\n\",\n",
    "        f\"\\tb. {Xs[1]} N\\n\",\n",
    "        f\"\\tc. {Xs[2]} N\\n\",\n",
    "        f\"\\td. {M_w} N-m\\n\",\n",
    "        f\"\\te. {M_n} N-m\\n\",\n",
    "    )"
   ]
  },
  {
   "cell_type": "code",
   "execution_count": 6,
   "id": "84709601",
   "metadata": {},
   "outputs": [
    {
     "name": "stdout",
     "output_type": "stream",
     "text": [
      "Answers to Problem 2 for B5-1:\n",
      " \ta. 129.67947399353508 N\n",
      " \tb. 262.8170672935645 N\n",
      " \tc. 606.2515409197766 N\n",
      " \td. [    0.          -606.38857598 -6670.27433582] N-m\n",
      " \te. [  -0.          606.38857598 6670.27433582] N-m\n",
      "\n",
      "Answers to Problem 2 for B6:\n",
      " \ta. 98.55640023508667 N\n",
      " \tb. 199.740971143109 N\n",
      " \tc. 460.7511710990302 N\n",
      " \td. [    0.          -460.85531775 -5069.40849522] N-m\n",
      " \te. [  -0.          460.85531775 5069.40849522] N-m\n",
      "\n"
     ]
    }
   ],
   "source": [
    "solve_Problem_2(section = \"B5-1\")\n",
    "solve_Problem_2(section = \"B6\")"
   ]
  },
  {
   "cell_type": "code",
   "execution_count": null,
   "id": "62821075",
   "metadata": {},
   "outputs": [],
   "source": []
  }
 ],
 "metadata": {
  "kernelspec": {
   "display_name": "ens161",
   "language": "python",
   "name": "python3"
  },
  "language_info": {
   "codemirror_mode": {
    "name": "ipython",
    "version": 3
   },
   "file_extension": ".py",
   "mimetype": "text/x-python",
   "name": "python",
   "nbconvert_exporter": "python",
   "pygments_lexer": "ipython3",
   "version": "3.13.7"
  }
 },
 "nbformat": 4,
 "nbformat_minor": 5
}
